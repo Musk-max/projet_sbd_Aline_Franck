{
 "cells": [
  {
   "cell_type": "markdown",
   "metadata": {},
   "source": [
    "# M1 MIAGE SBD\n",
    "##@Authors : Aline N'DEKO & Franck LAGOU\n",
    "## Kickstarter for final project \"Differential privacy\""
   ]
  },
  {
   "cell_type": "code",
   "execution_count": 86,
   "metadata": {},
   "outputs": [],
   "source": [
    "import matplotlib.pyplot as plt\n",
    "import numpy as np\n",
    "import pandas as pd\n",
    "from scipy.stats import ks_2samp\n",
    "import seaborn as sns\n",
    "import numpy as np\n",
    "from numpy.random import laplace\n"
   ]
  },
  {
   "cell_type": "markdown",
   "metadata": {},
   "source": [
    "## Loading data"
   ]
  },
  {
   "cell_type": "code",
   "execution_count": 87,
   "metadata": {},
   "outputs": [
    {
     "data": {
      "text/html": [
       "<div>\n",
       "<style scoped>\n",
       "    .dataframe tbody tr th:only-of-type {\n",
       "        vertical-align: middle;\n",
       "    }\n",
       "\n",
       "    .dataframe tbody tr th {\n",
       "        vertical-align: top;\n",
       "    }\n",
       "\n",
       "    .dataframe thead th {\n",
       "        text-align: right;\n",
       "    }\n",
       "</style>\n",
       "<table border=\"1\" class=\"dataframe\">\n",
       "  <thead>\n",
       "    <tr style=\"text-align: right;\">\n",
       "      <th></th>\n",
       "      <th>age</th>\n",
       "      <th>workclass</th>\n",
       "      <th>fnlwgt</th>\n",
       "      <th>education</th>\n",
       "      <th>education-num</th>\n",
       "      <th>marital-status</th>\n",
       "      <th>occupation</th>\n",
       "      <th>relationship</th>\n",
       "      <th>race</th>\n",
       "      <th>gender</th>\n",
       "      <th>capital-gain</th>\n",
       "      <th>capital-loss</th>\n",
       "      <th>hours-per-week</th>\n",
       "      <th>native-country</th>\n",
       "      <th>income</th>\n",
       "    </tr>\n",
       "  </thead>\n",
       "  <tbody>\n",
       "    <tr>\n",
       "      <th>0</th>\n",
       "      <td>39</td>\n",
       "      <td>State-gov</td>\n",
       "      <td>77516</td>\n",
       "      <td>Bachelors</td>\n",
       "      <td>13</td>\n",
       "      <td>Never-married</td>\n",
       "      <td>Adm-clerical</td>\n",
       "      <td>Not-in-family</td>\n",
       "      <td>White</td>\n",
       "      <td>Male</td>\n",
       "      <td>2174</td>\n",
       "      <td>0</td>\n",
       "      <td>40</td>\n",
       "      <td>United-States</td>\n",
       "      <td>&lt;=50K</td>\n",
       "    </tr>\n",
       "    <tr>\n",
       "      <th>1</th>\n",
       "      <td>50</td>\n",
       "      <td>Self-emp-not-inc</td>\n",
       "      <td>83311</td>\n",
       "      <td>Bachelors</td>\n",
       "      <td>13</td>\n",
       "      <td>Married-civ-spouse</td>\n",
       "      <td>Exec-managerial</td>\n",
       "      <td>Husband</td>\n",
       "      <td>White</td>\n",
       "      <td>Male</td>\n",
       "      <td>0</td>\n",
       "      <td>0</td>\n",
       "      <td>13</td>\n",
       "      <td>United-States</td>\n",
       "      <td>&lt;=50K</td>\n",
       "    </tr>\n",
       "    <tr>\n",
       "      <th>2</th>\n",
       "      <td>38</td>\n",
       "      <td>Private</td>\n",
       "      <td>215646</td>\n",
       "      <td>HS-grad</td>\n",
       "      <td>9</td>\n",
       "      <td>Divorced</td>\n",
       "      <td>Handlers-cleaners</td>\n",
       "      <td>Not-in-family</td>\n",
       "      <td>White</td>\n",
       "      <td>Male</td>\n",
       "      <td>0</td>\n",
       "      <td>0</td>\n",
       "      <td>40</td>\n",
       "      <td>United-States</td>\n",
       "      <td>&lt;=50K</td>\n",
       "    </tr>\n",
       "    <tr>\n",
       "      <th>3</th>\n",
       "      <td>53</td>\n",
       "      <td>Private</td>\n",
       "      <td>234721</td>\n",
       "      <td>11th</td>\n",
       "      <td>7</td>\n",
       "      <td>Married-civ-spouse</td>\n",
       "      <td>Handlers-cleaners</td>\n",
       "      <td>Husband</td>\n",
       "      <td>Black</td>\n",
       "      <td>Male</td>\n",
       "      <td>0</td>\n",
       "      <td>0</td>\n",
       "      <td>40</td>\n",
       "      <td>United-States</td>\n",
       "      <td>&lt;=50K</td>\n",
       "    </tr>\n",
       "    <tr>\n",
       "      <th>4</th>\n",
       "      <td>28</td>\n",
       "      <td>Private</td>\n",
       "      <td>338409</td>\n",
       "      <td>Bachelors</td>\n",
       "      <td>13</td>\n",
       "      <td>Married-civ-spouse</td>\n",
       "      <td>Prof-specialty</td>\n",
       "      <td>Wife</td>\n",
       "      <td>Black</td>\n",
       "      <td>Female</td>\n",
       "      <td>0</td>\n",
       "      <td>0</td>\n",
       "      <td>40</td>\n",
       "      <td>Cuba</td>\n",
       "      <td>&lt;=50K</td>\n",
       "    </tr>\n",
       "    <tr>\n",
       "      <th>...</th>\n",
       "      <td>...</td>\n",
       "      <td>...</td>\n",
       "      <td>...</td>\n",
       "      <td>...</td>\n",
       "      <td>...</td>\n",
       "      <td>...</td>\n",
       "      <td>...</td>\n",
       "      <td>...</td>\n",
       "      <td>...</td>\n",
       "      <td>...</td>\n",
       "      <td>...</td>\n",
       "      <td>...</td>\n",
       "      <td>...</td>\n",
       "      <td>...</td>\n",
       "      <td>...</td>\n",
       "    </tr>\n",
       "    <tr>\n",
       "      <th>32556</th>\n",
       "      <td>27</td>\n",
       "      <td>Private</td>\n",
       "      <td>257302</td>\n",
       "      <td>Assoc-acdm</td>\n",
       "      <td>12</td>\n",
       "      <td>Married-civ-spouse</td>\n",
       "      <td>Tech-support</td>\n",
       "      <td>Wife</td>\n",
       "      <td>White</td>\n",
       "      <td>Female</td>\n",
       "      <td>0</td>\n",
       "      <td>0</td>\n",
       "      <td>38</td>\n",
       "      <td>United-States</td>\n",
       "      <td>&lt;=50K</td>\n",
       "    </tr>\n",
       "    <tr>\n",
       "      <th>32557</th>\n",
       "      <td>40</td>\n",
       "      <td>Private</td>\n",
       "      <td>154374</td>\n",
       "      <td>HS-grad</td>\n",
       "      <td>9</td>\n",
       "      <td>Married-civ-spouse</td>\n",
       "      <td>Machine-op-inspct</td>\n",
       "      <td>Husband</td>\n",
       "      <td>White</td>\n",
       "      <td>Male</td>\n",
       "      <td>0</td>\n",
       "      <td>0</td>\n",
       "      <td>40</td>\n",
       "      <td>United-States</td>\n",
       "      <td>&gt;50K</td>\n",
       "    </tr>\n",
       "    <tr>\n",
       "      <th>32558</th>\n",
       "      <td>58</td>\n",
       "      <td>Private</td>\n",
       "      <td>151910</td>\n",
       "      <td>HS-grad</td>\n",
       "      <td>9</td>\n",
       "      <td>Widowed</td>\n",
       "      <td>Adm-clerical</td>\n",
       "      <td>Unmarried</td>\n",
       "      <td>White</td>\n",
       "      <td>Female</td>\n",
       "      <td>0</td>\n",
       "      <td>0</td>\n",
       "      <td>40</td>\n",
       "      <td>United-States</td>\n",
       "      <td>&lt;=50K</td>\n",
       "    </tr>\n",
       "    <tr>\n",
       "      <th>32559</th>\n",
       "      <td>22</td>\n",
       "      <td>Private</td>\n",
       "      <td>201490</td>\n",
       "      <td>HS-grad</td>\n",
       "      <td>9</td>\n",
       "      <td>Never-married</td>\n",
       "      <td>Adm-clerical</td>\n",
       "      <td>Own-child</td>\n",
       "      <td>White</td>\n",
       "      <td>Male</td>\n",
       "      <td>0</td>\n",
       "      <td>0</td>\n",
       "      <td>20</td>\n",
       "      <td>United-States</td>\n",
       "      <td>&lt;=50K</td>\n",
       "    </tr>\n",
       "    <tr>\n",
       "      <th>32560</th>\n",
       "      <td>52</td>\n",
       "      <td>Self-emp-inc</td>\n",
       "      <td>287927</td>\n",
       "      <td>HS-grad</td>\n",
       "      <td>9</td>\n",
       "      <td>Married-civ-spouse</td>\n",
       "      <td>Exec-managerial</td>\n",
       "      <td>Wife</td>\n",
       "      <td>White</td>\n",
       "      <td>Female</td>\n",
       "      <td>15024</td>\n",
       "      <td>0</td>\n",
       "      <td>40</td>\n",
       "      <td>United-States</td>\n",
       "      <td>&gt;50K</td>\n",
       "    </tr>\n",
       "  </tbody>\n",
       "</table>\n",
       "<p>30162 rows × 15 columns</p>\n",
       "</div>"
      ],
      "text/plain": [
       "       age         workclass  fnlwgt   education  education-num  \\\n",
       "0       39         State-gov   77516   Bachelors             13   \n",
       "1       50  Self-emp-not-inc   83311   Bachelors             13   \n",
       "2       38           Private  215646     HS-grad              9   \n",
       "3       53           Private  234721        11th              7   \n",
       "4       28           Private  338409   Bachelors             13   \n",
       "...    ...               ...     ...         ...            ...   \n",
       "32556   27           Private  257302  Assoc-acdm             12   \n",
       "32557   40           Private  154374     HS-grad              9   \n",
       "32558   58           Private  151910     HS-grad              9   \n",
       "32559   22           Private  201490     HS-grad              9   \n",
       "32560   52      Self-emp-inc  287927     HS-grad              9   \n",
       "\n",
       "           marital-status         occupation   relationship   race  gender  \\\n",
       "0           Never-married       Adm-clerical  Not-in-family  White    Male   \n",
       "1      Married-civ-spouse    Exec-managerial        Husband  White    Male   \n",
       "2                Divorced  Handlers-cleaners  Not-in-family  White    Male   \n",
       "3      Married-civ-spouse  Handlers-cleaners        Husband  Black    Male   \n",
       "4      Married-civ-spouse     Prof-specialty           Wife  Black  Female   \n",
       "...                   ...                ...            ...    ...     ...   \n",
       "32556  Married-civ-spouse       Tech-support           Wife  White  Female   \n",
       "32557  Married-civ-spouse  Machine-op-inspct        Husband  White    Male   \n",
       "32558             Widowed       Adm-clerical      Unmarried  White  Female   \n",
       "32559       Never-married       Adm-clerical      Own-child  White    Male   \n",
       "32560  Married-civ-spouse    Exec-managerial           Wife  White  Female   \n",
       "\n",
       "       capital-gain  capital-loss  hours-per-week native-country income  \n",
       "0              2174             0              40  United-States  <=50K  \n",
       "1                 0             0              13  United-States  <=50K  \n",
       "2                 0             0              40  United-States  <=50K  \n",
       "3                 0             0              40  United-States  <=50K  \n",
       "4                 0             0              40           Cuba  <=50K  \n",
       "...             ...           ...             ...            ...    ...  \n",
       "32556             0             0              38  United-States  <=50K  \n",
       "32557             0             0              40  United-States   >50K  \n",
       "32558             0             0              40  United-States  <=50K  \n",
       "32559             0             0              20  United-States  <=50K  \n",
       "32560         15024             0              40  United-States   >50K  \n",
       "\n",
       "[30162 rows x 15 columns]"
      ]
     },
     "execution_count": 87,
     "metadata": {},
     "output_type": "execute_result"
    }
   ],
   "source": [
    "url = 'https://archive.ics.uci.edu/ml/machine-learning-databases/adult/adult.data'\n",
    "\n",
    "names = ['age', 'workclass', 'fnlwgt', 'education', 'education-num',\n",
    "         'marital-status', 'occupation', 'relationship', 'race',\n",
    "         'gender', 'capital-gain', 'capital-loss', 'hours-per-week',\n",
    "         'native-country', 'income']\n",
    "\n",
    "adult = pd.read_csv(url, sep=',', header=None, names=names, na_values='?', engine='python', skipinitialspace=True)\n",
    "\n",
    "adult.dropna(inplace=True)\n",
    "adult"
   ]
  },
  {
   "cell_type": "markdown",
   "metadata": {},
   "source": [
    "## Performing queries"
   ]
  },
  {
   "cell_type": "markdown",
   "metadata": {},
   "source": [
    "### Query H1: Distribution (histogram) of the education level."
   ]
  },
  {
   "cell_type": "code",
   "execution_count": 88,
   "metadata": {},
   "outputs": [
    {
     "data": {
      "text/plain": [
       "education\n",
       "HS-grad         9840\n",
       "Some-college    6678\n",
       "Bachelors       5044\n",
       "Masters         1627\n",
       "Assoc-voc       1307\n",
       "11th            1048\n",
       "Assoc-acdm      1008\n",
       "10th             820\n",
       "7th-8th          557\n",
       "Prof-school      542\n",
       "9th              455\n",
       "12th             377\n",
       "Doctorate        375\n",
       "5th-6th          288\n",
       "1st-4th          151\n",
       "Preschool         45\n",
       "Name: count, dtype: int64"
      ]
     },
     "execution_count": 88,
     "metadata": {},
     "output_type": "execute_result"
    }
   ],
   "source": [
    "adult['education'].value_counts()"
   ]
  },
  {
   "cell_type": "code",
   "execution_count": 89,
   "metadata": {},
   "outputs": [
    {
     "data": {
      "image/png": "[encoded data removed]",
      "text/plain": [
       "<Figure size 640x480 with 1 Axes>"
      ]
     },
     "metadata": {},
     "output_type": "display_data"
    }
   ],
   "source": [
    "sns.histplot(data=adult.sort_values(by='education-num'), y='education');"
   ]
  },
  {
   "cell_type": "markdown",
   "metadata": {},
   "source": [
    "##I- Privelet Algorithm"
   ]
  },
  {
   "cell_type": "markdown",
   "metadata": {},
   "source": [
    "#Q1 : Implement the 1-dimensional Privelet algorithm described in the Section 4 “Privelet for one-dimensional\n",
    "ordinal data”"
   ]
  },
  {
   "cell_type": "code",
   "execution_count": 90,
   "metadata": {},
   "outputs": [],
   "source": [
    "import numpy as np\n",
    "from numpy.random import laplace\n",
    "\n",
    "# === Étape 1 : Transformation de Haar Wavelet ===\n",
    "def haar_wavelet_transform(data):\n",
    "    \"\"\"\n",
    "    Applique la Haar Wavelet Transform (HWT) à une liste de données.\n",
    "    Retourne les coefficients (base + internes).\n",
    "    \"\"\"\n",
    "    data = np.array(data, dtype=float)\n",
    "    n = len(data)\n",
    "    coeffs = []\n",
    "\n",
    "    def build_tree(segment):\n",
    "        if len(segment) == 1:\n",
    "            return segment[0]\n",
    "        mid = len(segment) // 2\n",
    "        left_avg = np.mean(segment[:mid])\n",
    "        right_avg = np.mean(segment[mid:])\n",
    "        coeff = (left_avg - right_avg) / 2\n",
    "        coeffs.append(coeff)\n",
    "        build_tree(segment[:mid])\n",
    "        build_tree(segment[mid:])\n",
    "        return coeff\n",
    "\n",
    "    # Base coefficient (c0) = moyenne globale\n",
    "    base_coeff = np.mean(data)\n",
    "    coeffs.insert(0, base_coeff)\n",
    "    build_tree(data)\n",
    "    return coeffs\n"
   ]
  },
  {
   "cell_type": "code",
   "execution_count": 91,
   "metadata": {},
   "outputs": [],
   "source": [
    "# === Étape 3\n",
    "def compute_whaar_weights(num_coeffs):\n",
    "    \"\"\"\n",
    "    Calcule les poids WHaar des coefficients pour Privelet.\n",
    "    Cette version corrige les problèmes de boucles infinies et assure que num_coeffs est une puissance de 2.\n",
    "    \"\"\"\n",
    "    # Vérification que num_coeffs est une puissance de 2\n",
    "    if (num_coeffs & (num_coeffs - 1)) != 0:  # Si ce n'est pas une puissance de 2\n",
    "        raise ValueError(\"num_coeffs doit être une puissance de 2\")\n",
    "    \n",
    "    weights = []\n",
    "    l = int(np.log2(num_coeffs))  # Calcul de l\n",
    "    \n",
    "    weights.append(2**l)  # Le poids du coefficient de base (c0)\n",
    "    \n",
    "    level = 1\n",
    "    remaining = num_coeffs - 1  # Reste à traiter après le coefficient de base\n",
    "    \n",
    "    while remaining > 0:\n",
    "        # Calcul du nombre de nœuds à ce niveau\n",
    "        nodes_at_level = 2**(level - 1)\n",
    "        \n",
    "        # Ajouter des poids pour chaque nœud à ce niveau\n",
    "        for _ in range(nodes_at_level):\n",
    "            if len(weights) < num_coeffs:\n",
    "                weights.append(2**(l - level + 1))\n",
    "        \n",
    "        # Réduire le nombre restant à traiter\n",
    "        remaining -= nodes_at_level\n",
    "        level += 1\n",
    "    \n",
    "    return weights\n"
   ]
  },
  {
   "cell_type": "code",
   "execution_count": 92,
   "metadata": {},
   "outputs": [],
   "source": [
    "import numpy as np\n",
    "from numpy.random import laplace\n",
    "\n",
    "# === Étape 3 : Ajout du bruit Laplacien calibré ===\n",
    "def add_laplace_noise(coeffs, epsilon):\n",
    "    \"\"\"\n",
    "    Ajoute du bruit Laplacien aux coefficients Haar en fonction de WHaar.\n",
    "    \"\"\"\n",
    "    weights = compute_whaar_weights(len(coeffs))\n",
    "    noisy_coeffs = []\n",
    "    lambda_ = (1 + np.log2(len(weights))) / epsilon  # Très important\n",
    "    for c, w in zip(coeffs, weights):\n",
    "        scale = lambda_ / w  # Ajustement correct\n",
    "        noisy_coeffs.append(c + laplace(scale=scale))\n",
    "    return noisy_coeffs\n"
   ]
  },
  {
   "cell_type": "code",
   "execution_count": 93,
   "metadata": {},
   "outputs": [],
   "source": [
    "import numpy as np\n",
    "from numpy.random import laplace\n",
    "# === Étape 4 : Reconstruction des données originales ===\n",
    "def inverse_haar_wavelet_transform(coeffs):\n",
    "    \"\"\"\n",
    "    Reconstitue les données à partir des coefficients Haar.\n",
    "    \"\"\"\n",
    "    n = len(coeffs)  # nombre total de coefficients (ici 8)\n",
    "    levels = int(np.log2(n))  # le nombre de niveaux\n",
    "\n",
    "    # Initialiser les valeurs avec le premier coefficient (la moyenne)\n",
    "    reconstructed = np.array([coeffs[0]])\n",
    "\n",
    "    # Décoder chaque niveau et doubler la taille à chaque fois\n",
    "    idx = 1\n",
    "    for level in range(levels):\n",
    "        new_reconstructed = []\n",
    "        for val in reconstructed:\n",
    "            diff = coeffs[idx]\n",
    "            new_reconstructed.append(val + diff)\n",
    "            new_reconstructed.append(val - diff)\n",
    "            idx += 1\n",
    "        reconstructed = np.array(new_reconstructed)\n",
    "\n",
    "    return reconstructed\n"
   ]
  },
  {
   "cell_type": "code",
   "execution_count": 94,
   "metadata": {},
   "outputs": [],
   "source": [
    "import numpy as np\n",
    "from numpy.random import laplace\n",
    "\n",
    "# === Privelet Algorithm (Final Function) ===\n",
    "def privelet_transform(data, epsilon):\n",
    "    \"\"\"\n",
    "    Implémente le Privelet transform (1D) pour données ordinales.\n",
    "    \"\"\"\n",
    "    coeffs = haar_wavelet_transform(data)\n",
    "    noisy_coeffs = add_laplace_noise(coeffs, epsilon)\n",
    "    noisy_data = inverse_haar_wavelet_transform(noisy_coeffs)\n",
    "    return noisy_data, noisy_coeffs\n"
   ]
  },
  {
   "cell_type": "code",
   "execution_count": 95,
   "metadata": {},
   "outputs": [
    {
     "name": "stdout",
     "output_type": "stream",
     "text": [
      "=== Données originales ===\n",
      "[9, 3, 6, 2, 8, 4, 5, 7]\n"
     ]
    }
   ],
   "source": [
    "\n",
    "# Données de test (longueur = 8 = 2^3)\n",
    "original_data = [9, 3, 6, 2, 8, 4, 5, 7]\n",
    "epsilon = 1.0  # niveau de confidentialité\n",
    "\n",
    "print(\"=== Données originales ===\")\n",
    "print(original_data)"
   ]
  },
  {
   "cell_type": "code",
   "execution_count": 96,
   "metadata": {},
   "outputs": [
    {
     "name": "stdout",
     "output_type": "stream",
     "text": [
      "\n",
      "=== Coefficients Haar ===\n",
      "[ 5.5 -0.5  1.   3.   2.   0.   2.  -1. ]\n"
     ]
    }
   ],
   "source": [
    "\n",
    "# Étape 1 : Transformation de Haar\n",
    "coeffs = haar_wavelet_transform(original_data)\n",
    "print(\"\\n=== Coefficients Haar ===\")\n",
    "print(np.round(coeffs, 3))"
   ]
  },
  {
   "cell_type": "code",
   "execution_count": 97,
   "metadata": {},
   "outputs": [
    {
     "name": "stdout",
     "output_type": "stream",
     "text": [
      "\n",
      "=== Poids WHaar ===\n",
      "[8, 8, 4, 4, 2, 2, 2, 2]\n"
     ]
    }
   ],
   "source": [
    "# Étape 2 : Poids WHaar\n",
    "weights = compute_whaar_weights(len(coeffs))\n",
    "print(\"\\n=== Poids WHaar ===\")\n",
    "print(weights)"
   ]
  },
  {
   "cell_type": "code",
   "execution_count": 98,
   "metadata": {},
   "outputs": [
    {
     "name": "stdout",
     "output_type": "stream",
     "text": [
      "\n",
      "=== Coefficients bruités ===\n",
      "[ 5.813 -0.759  1.63   2.947  1.272  0.54  -0.988  0.104]\n"
     ]
    }
   ],
   "source": [
    "# Étape 3 : Ajout de bruit\n",
    "noisy_coeffs = add_laplace_noise(coeffs, epsilon)\n",
    "print(\"\\n=== Coefficients bruités ===\")\n",
    "print(np.round(noisy_coeffs, 3))"
   ]
  },
  {
   "cell_type": "code",
   "execution_count": 99,
   "metadata": {},
   "outputs": [
    {
     "name": "stdout",
     "output_type": "stream",
     "text": [
      "\n",
      "=== Données reconstruites (bruitées) ===\n",
      "[ 7.96  5.41  3.96  2.88  8.53 10.51  3.73  3.52]\n"
     ]
    }
   ],
   "source": [
    "\n",
    "# Reconstruction des données à partir des coefficients bruités\n",
    "reconstructed = inverse_haar_wavelet_transform(noisy_coeffs)\n",
    "\n",
    "print(\"\\n=== Données reconstruites (bruitées) ===\")\n",
    "print(np.round(reconstructed, 2))"
   ]
  },
  {
   "cell_type": "code",
   "execution_count": 100,
   "metadata": {},
   "outputs": [
    {
     "name": "stdout",
     "output_type": "stream",
     "text": [
      "\n",
      "=== Reconstruction sans bruit (pour validation) ===\n",
      "[ 8.  4.  4.  4. 11.  7.  2.  4.]\n"
     ]
    }
   ],
   "source": [
    "# Comparaison avec reconstruction sans bruit (pour valider l’algo)\n",
    "perfect_reconstruction = inverse_haar_wavelet_transform(coeffs)\n",
    "print(\"\\n=== Reconstruction sans bruit (pour validation) ===\") \n",
    "print(np.round(perfect_reconstruction, 2))"
   ]
  },
  {
   "cell_type": "markdown",
   "metadata": {},
   "source": [
    "Q2: Test your code with Privelet to compute query H1 with ² 2 {0.01,0.1,1} (all other parameters set to default\n",
    "values).\n",
    "\n",
    "\n",
    "\n",
    "On doit :\n",
    "\n",
    "Extraire la colonne \"education\",\n",
    "\n",
    "Construire l'histogramme (compter combien par niveau d'éducation),\n",
    "\n",
    "Appliquer Privelet (Haar + bruit Laplace + inverse),\n",
    "\n",
    "Tester pour epsilon ∈ {0.01, 0.1, 1},\n",
    "\n",
    "Imprimer les résultats."
   ]
  },
  {
   "cell_type": "code",
   "execution_count": 101,
   "metadata": {},
   "outputs": [
    {
     "data": {
      "text/plain": [
       "array([ 820, 1048,  377,  151,  288,  557,  455, 1008, 1307, 5044,  375,\n",
       "       9840, 1627,   45,  542, 6678])"
      ]
     },
     "execution_count": 101,
     "metadata": {},
     "output_type": "execute_result"
    }
   ],
   "source": [
    "# Extraire l'histogramme \"education\"\n",
    "education_counts = adult['education'].value_counts().sort_index()\n",
    "labels = education_counts.index.tolist()\n",
    "edu_true_histogram = education_counts.values\n",
    "edu_true_histogram"
   ]
  },
  {
   "cell_type": "code",
   "execution_count": 108,
   "metadata": {},
   "outputs": [
    {
     "data": {
      "text/plain": [
       "array([ 820., 1048.,  377.,  151.,  288.,  557.,  455., 1008., 1307.,\n",
       "       5044.,  375., 9840., 1627.,   45.,  542., 6678.])"
      ]
     },
     "execution_count": 108,
     "metadata": {},
     "output_type": "execute_result"
    }
   ],
   "source": [
    "#\n",
    "def pad_to_power_of_two(arr):\n",
    "    next_pow2 = 2**int(np.ceil(np.log2(len(arr))))\n",
    "    padded = np.zeros(next_pow2)\n",
    "    padded[:len(arr)] = arr\n",
    "    return padded\n",
    "\n",
    "edu_original_data = pad_to_power_of_two(edu_true_histogram)\n",
    "\n",
    "edu_original_data\n"
   ]
  },
  {
   "cell_type": "code",
   "execution_count": 109,
   "metadata": {},
   "outputs": [
    {
     "name": "stdout",
     "output_type": "stream",
     "text": [
      "\n",
      "==================================== Résultats pour ε = 0.01 =================================\n",
      "Histogramme reconstruit bruité :\n",
      "[  937.22  1257.58   869.1   -109.72   -54.7   1848.45 -1643.    2621.63\n",
      " -1496.54  8585.91  2330.84  5067.87  3512.9   1937.82  -307.53  5657.38]\n",
      "\n",
      "==================================== Résultats pour ε = 0.1 =================================\n",
      "Histogramme reconstruit bruité :\n",
      "[  225.27   706.17  1733.89  -246.76  -257.85  1624.41 -1489.83  2365.29\n",
      " -1326.1   8063.22  2303.82  5015.03  3450.36  1943.15   -49.58  6009.6 ]\n",
      "\n",
      "==================================== Résultats pour ε = 1 =================================\n",
      "Histogramme reconstruit bruité :\n",
      "[  208.93   763.45  1669.43  -249.12  -277.7   1655.98 -1402.08  2333.77\n",
      " -1371.6   8097.89  2285.95  5052.2   3498.73  1922.95   -80.22  6049.29]\n"
     ]
    }
   ],
   "source": [
    "#Tester pour différents epsilon\n",
    "edu_epsilons = [0.01, 0.1, 1]\n",
    "\n",
    "for edu_epsilon in edu_epsilons:\n",
    "    print(f\"\\n==================================== Résultats pour ε = {edu_epsilon} =================================\")\n",
    "\n",
    "    # 1-Appliquer Haar\n",
    "    edu_coeffs = haar_wavelet_transform(edu_original_data)\n",
    "\n",
    "    # 2-Calculer poids\n",
    "    edu_weights = compute_whaar_weights(len(edu_coeffs))\n",
    "\n",
    "    # 3-Ajouter bruit Laplace\n",
    "    edu_noisy_coeffs = add_laplace_noise(edu_coeffs, edu_epsilon)\n",
    "    \n",
    "    # 4-Reconstruire l'histogramme bruité\n",
    "    edu_reconstructed = inverse_haar_wavelet_transform(edu_noisy_coeffs)\n",
    "    \n",
    "    # 🔥 Ajouter affichage\n",
    "    print(\"Histogramme reconstruit bruité :\")\n",
    "    print(np.round(edu_reconstructed, 2))\n"
   ]
  },
  {
   "cell_type": "markdown",
   "metadata": {},
   "source": [
    "#### Une represenntation graphique de l'histogramme d'origine et de l'histogramme bruité"
   ]
  },
  {
   "cell_type": "code",
   "execution_count": 118,
   "metadata": {},
   "outputs": [
    {
     "data": {
      "image/png": "[encoded data removed]",
      "text/plain": [
       "<Figure size 1000x400 with 1 Axes>"
      ]
     },
     "metadata": {},
     "output_type": "display_data"
    }
   ],
   "source": [
    "import matplotlib.pyplot as plt\n",
    "\n",
    "plt.figure(figsize=(10, 4))\n",
    "plt.bar(range(len(edu_original_data)), edu_original_data, alpha=0.5, label='Vrai histogramme')\n",
    "plt.bar(range(len(edu_reconstructed)), edu_reconstructed, alpha=0.5, label=f'Histogramme bruité (ε={edu_epsilon})')\n",
    "plt.title(f'Comparaison des histogrammes pour ε={edu_epsilon}')\n",
    "plt.legend()\n",
    "plt.show()\n"
   ]
  }
 ],
 "metadata": {
  "kernelspec": {
   "display_name": ".venv",
   "language": "python",
   "name": "python3"
  },
  "language_info": {
   "codemirror_mode": {
    "name": "ipython",
    "version": 3
   },
   "file_extension": ".py",
   "mimetype": "text/x-python",
   "name": "python",
   "nbconvert_exporter": "python",
   "pygments_lexer": "ipython3",
   "version": "3.10.5"
  }
 },
 "nbformat": 4,
 "nbformat_minor": 4
}
